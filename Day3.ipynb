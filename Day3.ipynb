{
  "nbformat": 4,
  "nbformat_minor": 0,
  "metadata": {
    "colab": {
      "name": "Day3.ipynb",
      "provenance": [],
      "authorship_tag": "ABX9TyOVu1T/tekGe2231cSySxfN",
      "include_colab_link": true
    },
    "kernelspec": {
      "name": "python3",
      "display_name": "Python 3"
    }
  },
  "cells": [
    {
      "cell_type": "markdown",
      "metadata": {
        "id": "view-in-github",
        "colab_type": "text"
      },
      "source": [
        "<a href=\"https://colab.research.google.com/github/namita14/python/blob/master/Day3.ipynb\" target=\"_parent\"><img src=\"https://colab.research.google.com/assets/colab-badge.svg\" alt=\"Open In Colab\"/></a>"
      ]
    },
    {
      "cell_type": "code",
      "metadata": {
        "id": "8r-4ux-g8mZ4",
        "outputId": "db4b8c1e-38e9-4069-d075-ba64375829b9",
        "colab": {
          "base_uri": "https://localhost:8080/"
        }
      },
      "source": [
        "import numpy as np\n",
        "np.arange(start=2, stop=50, step=3)"
      ],
      "execution_count": null,
      "outputs": [
        {
          "output_type": "execute_result",
          "data": {
            "text/plain": [
              "array([ 2,  5,  8, 11, 14, 17, 20, 23, 26, 29, 32, 35, 38, 41, 44, 47])"
            ]
          },
          "metadata": {
            "tags": []
          },
          "execution_count": 1
        }
      ]
    },
    {
      "cell_type": "code",
      "metadata": {
        "id": "U5f6osk59EXx",
        "outputId": "ceab25c6-1216-4fef-b105-85042fd5b25e",
        "colab": {
          "base_uri": "https://localhost:8080/"
        }
      },
      "source": [
        "import numpy as np\n",
        "list1 = [21, 12 , 2 , 33 , 56]\n",
        "list2 = [1, 5, 7, 9, 3]\n",
        "print(list1)\n",
        "print(list2)\n",
        "arr1 = np.array(list1)\n",
        "arr2 = np.array(list2)\n",
        "print(arr1)\n",
        "print(arr2)\n",
        "print(np.concatenate((arr1, arr2)))\n",
        "print(np.sort(arr1))\n",
        "print(np.sort(arr2))"
      ],
      "execution_count": 29,
      "outputs": [
        {
          "output_type": "stream",
          "text": [
            "[21, 12, 2, 33, 56]\n",
            "[1, 5, 7, 9, 3]\n",
            "[21 12  2 33 56]\n",
            "[1 5 7 9 3]\n",
            "[21 12  2 33 56  1  5  7  9  3]\n",
            "[ 2 12 21 33 56]\n",
            "[1 3 5 7 9]\n"
          ],
          "name": "stdout"
        }
      ]
    },
    {
      "cell_type": "code",
      "metadata": {
        "id": "8iLhxQdn9Nez",
        "outputId": "d63722fb-b355-4ce5-a459-614378129df2",
        "colab": {
          "base_uri": "https://localhost:8080/"
        }
      },
      "source": [
        "import numpy as np\n",
        "x = np.array([[1, 2, 3], [4, 5, 6]], np.int32)\n",
        "type(x)\n",
        "x.shape\n",
        "x.dtype\n"
      ],
      "execution_count": null,
      "outputs": [
        {
          "output_type": "execute_result",
          "data": {
            "text/plain": [
              "dtype('int32')"
            ]
          },
          "metadata": {
            "tags": []
          },
          "execution_count": 2
        }
      ]
    },
    {
      "cell_type": "code",
      "metadata": {
        "id": "AJ4DM7H19tY1"
      },
      "source": [
        "import numpy as np\n",
        "a = np.arange(6)\n",
        "a.ndim\n",
        "c = np.reshape(a, (2,3))\n",
        "c.ndim"
      ],
      "execution_count": null,
      "outputs": []
    },
    {
      "cell_type": "code",
      "metadata": {
        "id": "EqJzZqmgX17A",
        "outputId": "78728320-1329-4ca7-afe0-b9c1c36b9e75",
        "colab": {
          "base_uri": "https://localhost:8080/"
        }
      },
      "source": [
        "## Horitzontal Stack\n",
        "import numpy as np\n",
        "f = np.array([1,2,3])\n",
        "g = np.array([4,5,6])\n",
        "\n",
        "print('Horizontal Append:', np.hstack((f, g)))\n",
        "\n",
        "## Vertical Stack\n",
        "import numpy as np\n",
        "f = np.array([1,2,3])\n",
        "g = np.array([4,5,6])\n",
        "\n",
        "print('Vertical Append:', np.vstack((f, g)))"
      ],
      "execution_count": 13,
      "outputs": [
        {
          "output_type": "stream",
          "text": [
            "Horizontal Append: [1 2 3 4 5 6]\n",
            "Vertical Append: [[1 2 3]\n",
            " [4 5 6]]\n"
          ],
          "name": "stdout"
        }
      ]
    },
    {
      "cell_type": "code",
      "metadata": {
        "id": "KnK3DAJPX8Zl",
        "outputId": "77cc615b-cb94-450a-cf15-89812ceb8fb2",
        "colab": {
          "base_uri": "https://localhost:8080/"
        }
      },
      "source": [
        "import numpy as np\n",
        "number_list = np.array([1, 1, 2, 3, 4, 4, 1])\n",
        "\n",
        "(unique, counts) = np.unique(number_list, return_counts=True)\n",
        "frequencies = np.asarray((unique, counts)).T\n",
        "\n",
        "print(frequencies)"
      ],
      "execution_count": 15,
      "outputs": [
        {
          "output_type": "stream",
          "text": [
            "[[1 3]\n",
            " [2 1]\n",
            " [3 1]\n",
            " [4 2]]\n"
          ],
          "name": "stdout"
        }
      ]
    }
  ]
}