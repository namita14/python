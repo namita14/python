{
  "nbformat": 4,
  "nbformat_minor": 0,
  "metadata": {
    "colab": {
      "name": "Day2.ipynb",
      "provenance": [],
      "authorship_tag": "ABX9TyO4X5BLfxEasBW0U7Jex31i",
      "include_colab_link": true
    },
    "kernelspec": {
      "name": "python3",
      "display_name": "Python 3"
    }
  },
  "cells": [
    {
      "cell_type": "markdown",
      "metadata": {
        "id": "view-in-github",
        "colab_type": "text"
      },
      "source": [
        "<a href=\"https://colab.research.google.com/github/namita14/python/blob/master/Day2.ipynb\" target=\"_parent\"><img src=\"https://colab.research.google.com/assets/colab-badge.svg\" alt=\"Open In Colab\"/></a>"
      ]
    },
    {
      "cell_type": "code",
      "metadata": {
        "id": "kJQQadaUcjGu"
      },
      "source": [
        "sample_list = []\n",
        "for i in range(10):\n",
        "    sample_list.append(i)"
      ],
      "execution_count": 4,
      "outputs": []
    },
    {
      "cell_type": "code",
      "metadata": {
        "id": "vaKFJgbncsyV",
        "outputId": "d5b042d4-c75d-4bb4-9ffc-828b245c6589",
        "colab": {
          "base_uri": "https://localhost:8080/"
        }
      },
      "source": [
        "# List Comprehension. List comprehension is an elegant way to define and create lists based on existing lists.\n",
        "h_letters = [ letter for letter in 'human' ]\n",
        "print( h_letters)"
      ],
      "execution_count": 3,
      "outputs": [
        {
          "output_type": "stream",
          "text": [
            "['h', 'u', 'm', 'a', 'n']\n"
          ],
          "name": "stdout"
        }
      ]
    },
    {
      "cell_type": "code",
      "metadata": {
        "id": "csVauUw_dSD-",
        "outputId": "a122f065-40e2-4edb-8166-1873d0446d76",
        "colab": {
          "base_uri": "https://localhost:8080/"
        }
      },
      "source": [
        "letters = list(map(lambda x: x, 'human'))\n",
        "print(letters)"
      ],
      "execution_count": 5,
      "outputs": [
        {
          "output_type": "stream",
          "text": [
            "['h', 'u', 'm', 'a', 'n']\n"
          ],
          "name": "stdout"
        }
      ]
    },
    {
      "cell_type": "code",
      "metadata": {
        "id": "8TZ7wPftdZit",
        "outputId": "23f9a58f-f339-4e6d-f431-d263fe13c68b",
        "colab": {
          "base_uri": "https://localhost:8080/"
        }
      },
      "source": [
        "n=int(input(\"Input a number \"))\n",
        "d = dict()\n",
        "\n",
        "for i in range(1,n+1):\n",
        "    d[i]=i*i\n",
        "\n",
        "print(d)"
      ],
      "execution_count": 6,
      "outputs": [
        {
          "output_type": "stream",
          "text": [
            "Input a number 10\n",
            "{1: 1, 2: 4, 3: 9, 4: 16, 5: 25, 6: 36, 7: 49, 8: 64, 9: 81, 10: 100}\n"
          ],
          "name": "stdout"
        }
      ]
    },
    {
      "cell_type": "code",
      "metadata": {
        "id": "VuzzLa6fd0Pi",
        "outputId": "5252430e-4b3c-4ce2-8cf9-651feb79c919",
        "colab": {
          "base_uri": "https://localhost:8080/"
        }
      },
      "source": [
        "import math\n",
        "\n",
        "x, y = 0, 0\n",
        "\n",
        "while True:\n",
        "    step = input(\"Type in UP/DOWN/LEFT/RIGHT #step number: \")\n",
        "\n",
        "    if step == \"\":\n",
        "        break\n",
        "\n",
        "    else:\n",
        "        step = step.split(\" \")\n",
        "\n",
        "        if step[0] == \"UP\":\n",
        "            y = y + int(step[1])\n",
        "        elif step[0] == \"DOWN\":\n",
        "            y = y - int(step[1])\n",
        "        elif step[0] == \"LEFT\":\n",
        "            x = x - int(step[1])\n",
        "        elif step[0] == \"RIGHT\":\n",
        "            x = x + int(step[1])\n",
        "\n",
        "c = math.sqrt(x**2 + y**2)\n",
        "\n",
        "print(\"Distance:\", c)"
      ],
      "execution_count": 9,
      "outputs": [
        {
          "output_type": "stream",
          "text": [
            "Type in UP/DOWN/LEFT/RIGHT #step number: 4\n",
            "Type in UP/DOWN/LEFT/RIGHT #step number: 4\n",
            "Type in UP/DOWN/LEFT/RIGHT #step number: 4\n",
            "Type in UP/DOWN/LEFT/RIGHT #step number: 4\n",
            "Type in UP/DOWN/LEFT/RIGHT #step number: 5\n",
            "Type in UP/DOWN/LEFT/RIGHT #step number: 5\n",
            "Type in UP/DOWN/LEFT/RIGHT #step number: 5\n",
            "Type in UP/DOWN/LEFT/RIGHT #step number: 6\n",
            "Type in UP/DOWN/LEFT/RIGHT #step number: 6\n",
            "Type in UP/DOWN/LEFT/RIGHT #step number: 6\n",
            "Type in UP/DOWN/LEFT/RIGHT #step number: 7\n",
            "Type in UP/DOWN/LEFT/RIGHT #step number: \n",
            "Distance: 0.0\n"
          ],
          "name": "stdout"
        }
      ]
    }
  ]
}